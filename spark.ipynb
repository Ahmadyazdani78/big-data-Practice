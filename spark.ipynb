{
  "nbformat": 4,
  "nbformat_minor": 0,
  "metadata": {
    "colab": {
      "provenance": [],
      "collapsed_sections": []
    },
    "kernelspec": {
      "name": "python3",
      "display_name": "Python 3"
    },
    "language_info": {
      "name": "python"
    }
  },
  "cells": [
    {
      "cell_type": "markdown",
      "source": [
        "<center>\n",
        "<h1 dir=rtl>\n",
        "«تمرین برنامه‌نویسی اول»\n",
        "</h1>\n",
        "<h3 dir=rtl>\n",
        " نصب اسپارک و پردازش‌های اولیه با آن\n",
        "</h3>\n",
        "</center>"
      ],
      "metadata": {
        "id": "n-CHE8la9o7H"
      }
    },
    {
      "cell_type": "markdown",
      "source": [
        "<div dir=rtl>\n",
        "ابتدا بسته ‌اسپارک را در پایتون نصب کنید:\n",
        "</div>"
      ],
      "metadata": {
        "id": "wQ2Mmr4q-IhG"
      }
    },
    {
      "cell_type": "code",
      "execution_count": null,
      "metadata": {
        "id": "BdW4fkq6Tx98",
        "outputId": "40e24986-3ab7-4356-8163-27a6ea4d2552",
        "colab": {
          "base_uri": "https://localhost:8080/"
        }
      },
      "outputs": [
        {
          "output_type": "stream",
          "name": "stdout",
          "text": [
            "Looking in indexes: https://pypi.org/simple, https://us-python.pkg.dev/colab-wheels/public/simple/\n",
            "Requirement already satisfied: pyspark in /usr/local/lib/python3.7/dist-packages (3.3.1)\n",
            "Requirement already satisfied: py4j==0.10.9.5 in /usr/local/lib/python3.7/dist-packages (from pyspark) (0.10.9.5)\n"
          ]
        }
      ],
      "source": [
        "!pip install pyspark"
      ]
    },
    {
      "cell_type": "markdown",
      "source": [
        "<div dir=rtl>\n",
        "سپس کتابخانه‌های مربوطه را import کنید.\n",
        "</div>"
      ],
      "metadata": {
        "id": "WFT0fMTM-XTC"
      }
    },
    {
      "cell_type": "code",
      "source": [
        "import pyspark\n",
        "from pyspark.sql import *\n",
        "from pyspark.sql.functions import *\n",
        "from pyspark import SparkContext, SparkConf"
      ],
      "metadata": {
        "id": "s-11xEFqT8kA"
      },
      "execution_count": null,
      "outputs": []
    },
    {
      "cell_type": "markdown",
      "source": [
        "<div dir=rtl>\n",
        "با دستورات ذیل یک session و context برای اسپارک ایجاد می‌کنیم. \n",
        "</div>"
      ],
      "metadata": {
        "id": "T0oD2YaN-igy"
      }
    },
    {
      "cell_type": "code",
      "source": [
        "# create the session\n",
        "conf = SparkConf().set(\"spark.ui.port\", \"4050\")\n",
        "\n",
        "# create the context\n",
        "sc = pyspark.SparkContext(conf=conf)\n",
        "spark = SparkSession.builder.getOrCreate()"
      ],
      "metadata": {
        "id": "FU2qgC9HZPSH"
      },
      "execution_count": null,
      "outputs": []
    },
    {
      "cell_type": "markdown",
      "source": [
        "<div dir=rtl>\n",
        "دستور spark را اجرا کنید تا مطمئن شوید که همه‌چیز به درستی نصب و تنظیم شده است\n",
        "</div>"
      ],
      "metadata": {
        "id": "umaj7W2a-rK0"
      }
    },
    {
      "cell_type": "code",
      "source": [
        "spark"
      ],
      "metadata": {
        "id": "zPR3Ugn0ZSxC",
        "outputId": "5baf59ca-9426-4a4a-ee2d-21c35e76ab05",
        "colab": {
          "base_uri": "https://localhost:8080/",
          "height": 222
        }
      },
      "execution_count": null,
      "outputs": [
        {
          "output_type": "execute_result",
          "data": {
            "text/plain": [
              "<pyspark.sql.session.SparkSession at 0x7f3559c14150>"
            ],
            "text/html": [
              "\n",
              "            <div>\n",
              "                <p><b>SparkSession - in-memory</b></p>\n",
              "                \n",
              "        <div>\n",
              "            <p><b>SparkContext</b></p>\n",
              "\n",
              "            <p><a href=\"http://ec5c006f71bc:4050\">Spark UI</a></p>\n",
              "\n",
              "            <dl>\n",
              "              <dt>Version</dt>\n",
              "                <dd><code>v3.3.1</code></dd>\n",
              "              <dt>Master</dt>\n",
              "                <dd><code>local[*]</code></dd>\n",
              "              <dt>AppName</dt>\n",
              "                <dd><code>pyspark-shell</code></dd>\n",
              "            </dl>\n",
              "        </div>\n",
              "        \n",
              "            </div>\n",
              "        "
            ]
          },
          "metadata": {},
          "execution_count": 5
        }
      ]
    },
    {
      "cell_type": "markdown",
      "source": [
        "<div dir=rtl>\n",
        "در این تمرین یک دیتاست معروف به نام Record Linkage را دانلود می‌کنیم. \n",
        "\n",
        "سوال اول: از لینک ذیل درباره این دیتاست مطالعه کنید و در یک پاراگراف آنرا معرفی کنید.\n",
        "داده های فوق دارای 5749132 ثبت و 12 صفت است. داده ها در سال 2011 جمع آوری شده که شامل اطلاعات شخصی افراد مریوط به سال 2005 تا 2008 است.جفت‌های داده‌ها در طی یک بررسی دستی گسترده که در آن چندین مستند درگیر بود، به‌عنوان «مطابقت» یا «غیر منطبق» طبقه‌بندی شدند.\n",
        "</div>\n",
        "<div>\n",
        "<a href=\"https://archive.ics.uci.edu/ml/datasets/record+linkage+comparison+patterns\">https://archive.ics.uci.edu/ml/datasets/record+linkage+comparison+patterns</a>\n",
        "</div>"
      ],
      "metadata": {
        "id": "X9s0nwSi-16c"
      }
    },
    {
      "cell_type": "code",
      "source": [
        "!curl -L -o donation.zip https://bit.ly/1Aoywaq\n",
        "!unzip donation.zip\n",
        "!unzip 'block_*.zip'"
      ],
      "metadata": {
        "id": "khRgc-dzZXyS",
        "outputId": "652326b9-052a-441b-a15a-b24807ca4cc8",
        "colab": {
          "base_uri": "https://localhost:8080/"
        }
      },
      "execution_count": null,
      "outputs": [
        {
          "output_type": "stream",
          "name": "stdout",
          "text": [
            "  % Total    % Received % Xferd  Average Speed   Time    Time     Time  Current\n",
            "                                 Dload  Upload   Total   Spent    Left  Speed\n",
            "100   163  100   163    0     0   1752      0 --:--:-- --:--:-- --:--:--  1752\n",
            "100 53.8M  100 53.8M    0     0  56.1M      0 --:--:-- --:--:-- --:--:-- 81.7M\n",
            "Archive:  donation.zip\n",
            " extracting: block_10.zip            \n",
            " extracting: block_1.zip             \n",
            " extracting: block_2.zip             \n",
            " extracting: block_3.zip             \n",
            " extracting: block_4.zip             \n",
            " extracting: block_5.zip             \n",
            " extracting: block_6.zip             \n",
            " extracting: block_7.zip             \n",
            " extracting: block_8.zip             \n",
            " extracting: block_9.zip             \n",
            "  inflating: documentation           \n",
            "  inflating: frequencies.csv         \n",
            "Archive:  block_6.zip\n",
            "  inflating: block_6.csv             \n",
            "\n",
            "Archive:  block_4.zip\n",
            "  inflating: block_4.csv             \n",
            "\n",
            "Archive:  block_7.zip\n",
            "  inflating: block_7.csv             \n",
            "\n",
            "Archive:  block_5.zip\n",
            "  inflating: block_5.csv             \n",
            "\n",
            "Archive:  block_1.zip\n",
            "  inflating: block_1.csv             \n",
            "\n",
            "Archive:  block_8.zip\n",
            "  inflating: block_8.csv             \n",
            "\n",
            "Archive:  block_2.zip\n",
            "  inflating: block_2.csv             \n",
            "\n",
            "Archive:  block_9.zip\n",
            "  inflating: block_9.csv             \n",
            "\n",
            "Archive:  block_10.zip\n",
            "  inflating: block_10.csv            \n",
            "\n",
            "Archive:  block_3.zip\n",
            "  inflating: block_3.csv             \n",
            "\n",
            "10 archives were successfully processed.\n"
          ]
        }
      ]
    },
    {
      "cell_type": "markdown",
      "source": [
        "<div dir=rtl>\n",
        "در ادامه، همه فایل‌های csv مربوط به این دیتاست را در یک دیتافریم لود می‌کنیم:\n",
        "</div>"
      ],
      "metadata": {
        "id": "x8A3dttN_Y7A"
      }
    },
    {
      "cell_type": "code",
      "source": [
        "df0 = spark.read.csv(\"block*.csv\")"
      ],
      "metadata": {
        "id": "8-fK48tkZukj"
      },
      "execution_count": null,
      "outputs": []
    },
    {
      "cell_type": "markdown",
      "source": [
        "<div dir=rtl>\n",
        "با دستور ذیل تعداد رکوردهای این دیتافریم را بدست می‌آوریم:\n",
        "</div>"
      ],
      "metadata": {
        "id": "ZZMignQl_6zc"
      }
    },
    {
      "cell_type": "code",
      "source": [
        "df0.count()"
      ],
      "metadata": {
        "id": "U-uiBke3aPb3",
        "outputId": "c9044565-9fb9-465f-a118-bc3fc2a1d44d",
        "colab": {
          "base_uri": "https://localhost:8080/"
        }
      },
      "execution_count": null,
      "outputs": [
        {
          "output_type": "execute_result",
          "data": {
            "text/plain": [
              "5749142"
            ]
          },
          "metadata": {},
          "execution_count": 8
        }
      ]
    },
    {
      "cell_type": "markdown",
      "source": [
        "<div dir=rtl>\n",
        "با این دستور شمای این دیتافریم را مشاهده می‌کنیم. دقت کنید که نام ستونها و نوع آنها همگی به صورت خودکار تولید شده‌اند\n",
        "</div>"
      ],
      "metadata": {
        "id": "COofDr1oAGlh"
      }
    },
    {
      "cell_type": "code",
      "source": [
        "df0.printSchema()"
      ],
      "metadata": {
        "id": "_VxLZwQaaUZP",
        "outputId": "d625675e-b378-4302-c9c4-7b9e799c0520",
        "colab": {
          "base_uri": "https://localhost:8080/"
        }
      },
      "execution_count": null,
      "outputs": [
        {
          "output_type": "stream",
          "name": "stdout",
          "text": [
            "root\n",
            " |-- _c0: string (nullable = true)\n",
            " |-- _c1: string (nullable = true)\n",
            " |-- _c2: string (nullable = true)\n",
            " |-- _c3: string (nullable = true)\n",
            " |-- _c4: string (nullable = true)\n",
            " |-- _c5: string (nullable = true)\n",
            " |-- _c6: string (nullable = true)\n",
            " |-- _c7: string (nullable = true)\n",
            " |-- _c8: string (nullable = true)\n",
            " |-- _c9: string (nullable = true)\n",
            " |-- _c10: string (nullable = true)\n",
            " |-- _c11: string (nullable = true)\n",
            "\n"
          ]
        }
      ]
    },
    {
      "cell_type": "markdown",
      "source": [
        "<div dir=rtl>\n",
        "برای نمایش ۵ سطر اول این دیتافریم از دستور ذیل استفاده می‌کنیم\n",
        "</div>"
      ],
      "metadata": {
        "id": "E0U9pUFIAaAt"
      }
    },
    {
      "cell_type": "code",
      "source": [
        "df0.show(5)"
      ],
      "metadata": {
        "id": "yRgfLA15bbZU",
        "outputId": "015aaccf-2af7-4f03-b93c-29fbad5edee8",
        "colab": {
          "base_uri": "https://localhost:8080/"
        }
      },
      "execution_count": null,
      "outputs": [
        {
          "output_type": "stream",
          "name": "stdout",
          "text": [
            "+-----+-----+------------+------------+------------+------------+-------+------+------+------+-------+--------+\n",
            "|  _c0|  _c1|         _c2|         _c3|         _c4|         _c5|    _c6|   _c7|   _c8|   _c9|   _c10|    _c11|\n",
            "+-----+-----+------------+------------+------------+------------+-------+------+------+------+-------+--------+\n",
            "| id_1| id_2|cmp_fname_c1|cmp_fname_c2|cmp_lname_c1|cmp_lname_c2|cmp_sex|cmp_bd|cmp_bm|cmp_by|cmp_plz|is_match|\n",
            "| 3148| 8326|           1|           ?|           1|           ?|      1|     1|     1|     1|      1|    TRUE|\n",
            "|14055|94934|           1|           ?|           1|           ?|      1|     1|     1|     1|      1|    TRUE|\n",
            "|33948|34740|           1|           ?|           1|           ?|      1|     1|     1|     1|      1|    TRUE|\n",
            "|  946|71870|           1|           ?|           1|           ?|      1|     1|     1|     1|      1|    TRUE|\n",
            "+-----+-----+------------+------------+------------+------------+-------+------+------+------+-------+--------+\n",
            "only showing top 5 rows\n",
            "\n"
          ]
        }
      ]
    },
    {
      "cell_type": "markdown",
      "source": [
        "<div dir=rtl>\n",
        "حال، مجدد فایل‌های csv را با پارامترهای دیگری لود می‌کنیم:\n",
        "</div>"
      ],
      "metadata": {
        "id": "HgRTQng0Alxr"
      }
    },
    {
      "cell_type": "code",
      "source": [
        "parsed = spark.read.csv(\"block*.csv\", header=True, inferSchema=True, nullValue=\"?\")"
      ],
      "metadata": {
        "id": "fZT5gXKvfv4M"
      },
      "execution_count": null,
      "outputs": []
    },
    {
      "cell_type": "code",
      "source": [
        "parsed.printSchema()"
      ],
      "metadata": {
        "id": "TExakuC8hCz-",
        "outputId": "97642db3-ea36-48b5-97d8-45a90041a584",
        "colab": {
          "base_uri": "https://localhost:8080/"
        }
      },
      "execution_count": null,
      "outputs": [
        {
          "output_type": "stream",
          "name": "stdout",
          "text": [
            "root\n",
            " |-- id_1: integer (nullable = true)\n",
            " |-- id_2: integer (nullable = true)\n",
            " |-- cmp_fname_c1: double (nullable = true)\n",
            " |-- cmp_fname_c2: double (nullable = true)\n",
            " |-- cmp_lname_c1: double (nullable = true)\n",
            " |-- cmp_lname_c2: double (nullable = true)\n",
            " |-- cmp_sex: integer (nullable = true)\n",
            " |-- cmp_bd: integer (nullable = true)\n",
            " |-- cmp_bm: integer (nullable = true)\n",
            " |-- cmp_by: integer (nullable = true)\n",
            " |-- cmp_plz: integer (nullable = true)\n",
            " |-- is_match: boolean (nullable = true)\n",
            "\n"
          ]
        }
      ]
    },
    {
      "cell_type": "code",
      "source": [
        "parsed.show(5)"
      ],
      "metadata": {
        "id": "sZC6faxghRLd",
        "outputId": "6f9d9e5c-3c25-40a8-fc67-78a3c6a1aab4",
        "colab": {
          "base_uri": "https://localhost:8080/"
        }
      },
      "execution_count": null,
      "outputs": [
        {
          "output_type": "stream",
          "name": "stdout",
          "text": [
            "+-----+-----+------------+------------+------------+------------+-------+------+------+------+-------+--------+\n",
            "| id_1| id_2|cmp_fname_c1|cmp_fname_c2|cmp_lname_c1|cmp_lname_c2|cmp_sex|cmp_bd|cmp_bm|cmp_by|cmp_plz|is_match|\n",
            "+-----+-----+------------+------------+------------+------------+-------+------+------+------+-------+--------+\n",
            "| 3148| 8326|         1.0|        null|         1.0|        null|      1|     1|     1|     1|      1|    true|\n",
            "|14055|94934|         1.0|        null|         1.0|        null|      1|     1|     1|     1|      1|    true|\n",
            "|33948|34740|         1.0|        null|         1.0|        null|      1|     1|     1|     1|      1|    true|\n",
            "|  946|71870|         1.0|        null|         1.0|        null|      1|     1|     1|     1|      1|    true|\n",
            "|64880|71676|         1.0|        null|         1.0|        null|      1|     1|     1|     1|      1|    true|\n",
            "+-----+-----+------------+------------+------------+------------+-------+------+------+------+-------+--------+\n",
            "only showing top 5 rows\n",
            "\n"
          ]
        }
      ]
    },
    {
      "cell_type": "markdown",
      "source": [
        "<div dir=rtl>\n",
        "سوال دوم:\n",
        "با تغییر انجام شده در نحوه خواندن فایل‌های csv چه تغییری در DataFrame جدید نسبت به حالت قبل ایجاد شده است؟\n",
        "</div>\n"
      ],
      "metadata": {
        "id": "jjOtWBrIzp0P"
      }
    },
    {
      "cell_type": "markdown",
      "source": [
        "در این قسمت عنوان ها به شکل داده نیستند و به صورت عنوان داده ظاهر شده اند همچنین داده های که پر نشده بودند با تهی جایگزین شده اند."
      ],
      "metadata": {
        "id": "yK874TEmlRoU"
      }
    },
    {
      "cell_type": "markdown",
      "source": [],
      "metadata": {
        "id": "BtmaOorNlIR0"
      }
    },
    {
      "cell_type": "code",
      "source": [
        "parsed.groupBy('is_match').count().show()"
      ],
      "metadata": {
        "id": "90Nxhce7hUPS",
        "outputId": "e73b7b0a-93f0-4f74-cbd8-bb082d9d1453",
        "colab": {
          "base_uri": "https://localhost:8080/"
        }
      },
      "execution_count": null,
      "outputs": [
        {
          "output_type": "stream",
          "name": "stdout",
          "text": [
            "+--------+-------+\n",
            "|is_match|  count|\n",
            "+--------+-------+\n",
            "|    true|  20931|\n",
            "|   false|5728201|\n",
            "+--------+-------+\n",
            "\n"
          ]
        }
      ]
    },
    {
      "cell_type": "markdown",
      "source": [
        "<div dir=rtl>\n",
        "سوال سوم: \n",
        "دستور بالا چه کاری انجام می‌دهد؟\n",
        "</div>"
      ],
      "metadata": {
        "id": "P8nXv72V0-_c"
      }
    },
    {
      "cell_type": "markdown",
      "source": [
        "دستور فوق داده هایی که ماطبقت داشته و داده های غیر منطبق را شمارش کرده است.یعنی 20931 مطابقت دارند."
      ],
      "metadata": {
        "id": "vXv_zHtqnxxe"
      }
    },
    {
      "cell_type": "markdown",
      "source": [
        "<div dir=rtl>\n",
        "برای نمایش اطلاعات آماری از دیتاست از دستور ذیل استفاده می‌کنیم:\n",
        "</div>"
      ],
      "metadata": {
        "id": "TNk9Is6GBGQH"
      }
    },
    {
      "cell_type": "code",
      "source": [
        "summary = parsed.describe()\n",
        "summary.show()"
      ],
      "metadata": {
        "id": "WwhcUdF8kr07",
        "outputId": "6722c26c-6ca9-4dbe-e44b-522bacbadc4a",
        "colab": {
          "base_uri": "https://localhost:8080/"
        }
      },
      "execution_count": null,
      "outputs": [
        {
          "output_type": "stream",
          "name": "stdout",
          "text": [
            "+-------+------------------+------------------+------------------+------------------+-------------------+-------------------+-------------------+-------------------+-------------------+------------------+-------------------+\n",
            "|summary|              id_1|              id_2|      cmp_fname_c1|      cmp_fname_c2|       cmp_lname_c1|       cmp_lname_c2|            cmp_sex|             cmp_bd|             cmp_bm|            cmp_by|            cmp_plz|\n",
            "+-------+------------------+------------------+------------------+------------------+-------------------+-------------------+-------------------+-------------------+-------------------+------------------+-------------------+\n",
            "|  count|           5749132|           5749132|           5748125|            103698|            5749132|               2464|            5749132|            5748337|            5748337|           5748337|            5736289|\n",
            "|   mean| 33324.48559643438| 66587.43558331935|0.7129024704425707| 0.900017671890335|0.31562781930763056|0.31841283153174366|  0.955001381078048|0.22446526708507172|0.48885529849763504|0.2227485966810923|0.00552866147434343|\n",
            "| stddev|23659.859374487987|23620.487613269706|0.3887583596162788|0.2713176105782331| 0.3342336339615803| 0.3685670662006655|0.20730111116897443|0.41722972238461925| 0.4998758236779003|0.4160909629831711|0.07414914925420013|\n",
            "|    min|                 1|                 6|               0.0|               0.0|                0.0|                0.0|                  0|                  0|                  0|                 0|                  0|\n",
            "|    max|             99980|            100000|               1.0|               1.0|                1.0|                1.0|                  1|                  1|                  1|                 1|                  1|\n",
            "+-------+------------------+------------------+------------------+------------------+-------------------+-------------------+-------------------+-------------------+-------------------+------------------+-------------------+\n",
            "\n"
          ]
        }
      ]
    },
    {
      "cell_type": "markdown",
      "source": [
        "<div dir=rtl>\n",
        "سوال چهارم:\n",
        "چرا مقادیر count در ستون‌های مختلف متفاوت است؟\n",
        "</div>"
      ],
      "metadata": {
        "id": "uZRG4aWo1fMe"
      }
    },
    {
      "cell_type": "markdown",
      "source": [
        "به دلیل داشتن داده های null."
      ],
      "metadata": {
        "id": "SyCCHYxCo0GE"
      }
    },
    {
      "cell_type": "markdown",
      "source": [
        "<div dir=rtl>\n",
        "می‌توان آماره‌های مد نظر را روی دو دسته رکوردهایی که مقادیر فیلد is_matched آنها متفاوت است اجرا کرد. \n",
        "\n",
        "در اینجا به نحوه  فیلتر  بر اساس این فیلد توجه کنید.\n",
        "</div>"
      ],
      "metadata": {
        "id": "L1WG6jCe2Ffd"
      }
    },
    {
      "cell_type": "code",
      "source": [
        "matches = parsed.where(\"is_match = true\")\n",
        "match_summary = matches.describe()\n",
        "\n",
        "misses = parsed.filter(col(\"is_match\") == False) \n",
        "miss_summary = misses.describe()"
      ],
      "metadata": {
        "id": "dUnEZyI31YkG"
      },
      "execution_count": null,
      "outputs": []
    },
    {
      "cell_type": "markdown",
      "source": [
        "<div dir=rtl>\n",
        "روی دیتافریم ایجاد شده می‌توان انواع پیش‌پردازش‌ها را انجام داد. \n",
        "به عنوان نمونه فرض کنید می‌خواهیم تمام مقادیر null را با مقدار صفر جایگزین کنیم.\n",
        "\n",
        "سوال پنجم: برای انجام این کار از چه دستوری باید استفاده کرد؟\n",
        "\n",
        "</div>"
      ],
      "metadata": {
        "id": "urIW11B-BUJ3"
      }
    },
    {
      "cell_type": "markdown",
      "source": [
        "ابتدا با دستور\n"
      ],
      "metadata": {
        "id": "sDQQ7LyOo7cR"
      }
    },
    {
      "cell_type": "markdown",
      "source": [
        "parsed[parsed.isnull().any(axis=1)]\n",
        "موقعیت ثبت های تهی را شناسایی میکنیم و سپس با دستور "
      ],
      "metadata": {
        "id": "WCNlYLHGq4uF"
      }
    },
    {
      "cell_type": "markdown",
      "source": [
        "parsed.replace()\n",
        "استفاده میکنیم.\n"
      ],
      "metadata": {
        "id": "0cCw_X30q8Ev"
      }
    },
    {
      "cell_type": "markdown",
      "source": [
        "یا از دستور parsed.na.fill(0) استفاده نماییم."
      ],
      "metadata": {
        "id": "TmE8QHmRtEXI"
      }
    },
    {
      "cell_type": "code",
      "source": [
        "# Fill the null values  with 0\n"
      ],
      "metadata": {
        "id": "YGCr8vuU4XSX"
      },
      "execution_count": null,
      "outputs": []
    }
  ]
}